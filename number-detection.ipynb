{
 "cells": [
  {
   "cell_type": "code",
   "execution_count": 1,
   "id": "82bf9919",
   "metadata": {
    "_cell_guid": "b1076dfc-b9ad-4769-8c92-a6c4dae69d19",
    "_uuid": "8f2839f25d086af736a60e9eeb907d3b93b6e0e5",
    "execution": {
     "iopub.execute_input": "2023-12-02T12:16:15.843669Z",
     "iopub.status.busy": "2023-12-02T12:16:15.843196Z",
     "iopub.status.idle": "2023-12-02T12:16:16.280478Z",
     "shell.execute_reply": "2023-12-02T12:16:16.279359Z"
    },
    "papermill": {
     "duration": 0.452687,
     "end_time": "2023-12-02T12:16:16.283389",
     "exception": false,
     "start_time": "2023-12-02T12:16:15.830702",
     "status": "completed"
    },
    "tags": []
   },
   "outputs": [],
   "source": [
    "# This Python 3 environment comes with many helpful analytics libraries installed\n",
    "# It is defined by the kaggle/python Docker image: https://github.com/kaggle/docker-python\n",
    "# For example, here's several helpful packages to load\n",
    "\n",
    "import numpy as np # linear algebra\n",
    "import pandas as pd # data processing, CSV file I/O (e.g. pd.read_csv)\n",
    "\n",
    "# Input data files are available in the read-only \"../input/\" directory\n",
    "# For example, running this (by clicking run or pressing Shift+Enter) will list all files under the input directory\n",
    "\n",
    "import os\n",
    "for dirname, _, filenames in os.walk('/kaggle/input'):\n",
    "    for filename in filenames:\n",
    "        print(os.path.join(dirname, filename))\n",
    "\n",
    "# You can write up to 20GB to the current directory (/kaggle/working/) that gets preserved as output when you create a version using \"Save & Run All\" \n",
    "# You can also write temporary files to /kaggle/temp/, but they won't be saved outside of the current session"
   ]
  },
  {
   "cell_type": "code",
   "execution_count": 2,
   "id": "149df9d6",
   "metadata": {
    "execution": {
     "iopub.execute_input": "2023-12-02T12:16:16.301754Z",
     "iopub.status.busy": "2023-12-02T12:16:16.301136Z",
     "iopub.status.idle": "2023-12-02T12:16:31.314099Z",
     "shell.execute_reply": "2023-12-02T12:16:31.312824Z"
    },
    "papermill": {
     "duration": 15.025355,
     "end_time": "2023-12-02T12:16:31.317031",
     "exception": false,
     "start_time": "2023-12-02T12:16:16.291676",
     "status": "completed"
    },
    "tags": []
   },
   "outputs": [],
   "source": [
    "import tensorflow as tf\n",
    "from tensorflow import keras \n",
    "import matplotlib.pyplot as plt\n",
    "%matplotlib inline\n",
    "import numpy as np"
   ]
  },
  {
   "cell_type": "code",
   "execution_count": 3,
   "id": "edd12a20",
   "metadata": {
    "execution": {
     "iopub.execute_input": "2023-12-02T12:16:31.335778Z",
     "iopub.status.busy": "2023-12-02T12:16:31.335004Z",
     "iopub.status.idle": "2023-12-02T12:16:33.484843Z",
     "shell.execute_reply": "2023-12-02T12:16:33.483561Z"
    },
    "papermill": {
     "duration": 2.162717,
     "end_time": "2023-12-02T12:16:33.487821",
     "exception": false,
     "start_time": "2023-12-02T12:16:31.325104",
     "status": "completed"
    },
    "tags": []
   },
   "outputs": [
    {
     "name": "stdout",
     "output_type": "stream",
     "text": [
      "Downloading data from https://storage.googleapis.com/tensorflow/tf-keras-datasets/mnist.npz\n",
      "11490434/11490434 [==============================] - 1s 0us/step\n"
     ]
    }
   ],
   "source": [
    "(x_train,y_train),(x_test,y_test)=keras.datasets.mnist.load_data()"
   ]
  },
  {
   "cell_type": "code",
   "execution_count": 4,
   "id": "fe5bd69c",
   "metadata": {
    "execution": {
     "iopub.execute_input": "2023-12-02T12:16:33.511940Z",
     "iopub.status.busy": "2023-12-02T12:16:33.511396Z",
     "iopub.status.idle": "2023-12-02T12:16:33.990570Z",
     "shell.execute_reply": "2023-12-02T12:16:33.989348Z"
    },
    "papermill": {
     "duration": 0.494338,
     "end_time": "2023-12-02T12:16:33.993161",
     "exception": false,
     "start_time": "2023-12-02T12:16:33.498823",
     "status": "completed"
    },
    "tags": []
   },
   "outputs": [
    {
     "data": {
      "text/plain": [
       "<matplotlib.image.AxesImage at 0x7f9752f80b20>"
      ]
     },
     "execution_count": 4,
     "metadata": {},
     "output_type": "execute_result"
    },
    {
     "data": {
      "image/png": "[encoded data removed]",
      "text/plain": [
       "<Figure size 480x480 with 1 Axes>"
      ]
     },
     "metadata": {},
     "output_type": "display_data"
    }
   ],
   "source": [
    "plt.matshow(x_train[0])"
   ]
  },
  {
   "cell_type": "code",
   "execution_count": 5,
   "id": "3f054100",
   "metadata": {
    "execution": {
     "iopub.execute_input": "2023-12-02T12:16:34.017527Z",
     "iopub.status.busy": "2023-12-02T12:16:34.017100Z",
     "iopub.status.idle": "2023-12-02T12:16:34.211732Z",
     "shell.execute_reply": "2023-12-02T12:16:34.210531Z"
    },
    "papermill": {
     "duration": 0.210057,
     "end_time": "2023-12-02T12:16:34.214632",
     "exception": false,
     "start_time": "2023-12-02T12:16:34.004575",
     "status": "completed"
    },
    "tags": []
   },
   "outputs": [],
   "source": [
    "x_train=x_train/255\n",
    "x_test=x_test/255"
   ]
  },
  {
   "cell_type": "code",
   "execution_count": 6,
   "id": "8250f822",
   "metadata": {
    "execution": {
     "iopub.execute_input": "2023-12-02T12:16:34.239065Z",
     "iopub.status.busy": "2023-12-02T12:16:34.238656Z",
     "iopub.status.idle": "2023-12-02T12:16:34.243799Z",
     "shell.execute_reply": "2023-12-02T12:16:34.242611Z"
    },
    "papermill": {
     "duration": 0.020221,
     "end_time": "2023-12-02T12:16:34.246324",
     "exception": false,
     "start_time": "2023-12-02T12:16:34.226103",
     "status": "completed"
    },
    "tags": []
   },
   "outputs": [],
   "source": [
    "x_train_flattened=x_train.reshape(len(x_train),28*28)"
   ]
  },
  {
   "cell_type": "code",
   "execution_count": 7,
   "id": "5bfd9870",
   "metadata": {
    "execution": {
     "iopub.execute_input": "2023-12-02T12:16:34.271474Z",
     "iopub.status.busy": "2023-12-02T12:16:34.271049Z",
     "iopub.status.idle": "2023-12-02T12:16:34.277422Z",
     "shell.execute_reply": "2023-12-02T12:16:34.276443Z"
    },
    "papermill": {
     "duration": 0.021574,
     "end_time": "2023-12-02T12:16:34.279881",
     "exception": false,
     "start_time": "2023-12-02T12:16:34.258307",
     "status": "completed"
    },
    "tags": []
   },
   "outputs": [
    {
     "data": {
      "text/plain": [
       "(60000, 784)"
      ]
     },
     "execution_count": 7,
     "metadata": {},
     "output_type": "execute_result"
    }
   ],
   "source": [
    "x_train_flattened.shape"
   ]
  },
  {
   "cell_type": "code",
   "execution_count": 8,
   "id": "bcf9a91d",
   "metadata": {
    "execution": {
     "iopub.execute_input": "2023-12-02T12:16:34.304658Z",
     "iopub.status.busy": "2023-12-02T12:16:34.304143Z",
     "iopub.status.idle": "2023-12-02T12:16:34.309787Z",
     "shell.execute_reply": "2023-12-02T12:16:34.308592Z"
    },
    "papermill": {
     "duration": 0.021203,
     "end_time": "2023-12-02T12:16:34.312198",
     "exception": false,
     "start_time": "2023-12-02T12:16:34.290995",
     "status": "completed"
    },
    "tags": []
   },
   "outputs": [],
   "source": [
    "x_test_flattened=x_test.reshape(len(x_test),28*28)"
   ]
  },
  {
   "cell_type": "markdown",
   "id": "0c3dd511",
   "metadata": {
    "papermill": {
     "duration": 0.010562,
     "end_time": "2023-12-02T12:16:34.333762",
     "exception": false,
     "start_time": "2023-12-02T12:16:34.323200",
     "status": "completed"
    },
    "tags": []
   },
   "source": [
    "Simple neural network"
   ]
  },
  {
   "cell_type": "code",
   "execution_count": 9,
   "id": "43213282",
   "metadata": {
    "execution": {
     "iopub.execute_input": "2023-12-02T12:16:34.357574Z",
     "iopub.status.busy": "2023-12-02T12:16:34.357129Z",
     "iopub.status.idle": "2023-12-02T12:16:52.500846Z",
     "shell.execute_reply": "2023-12-02T12:16:52.499845Z"
    },
    "papermill": {
     "duration": 18.158715,
     "end_time": "2023-12-02T12:16:52.503341",
     "exception": false,
     "start_time": "2023-12-02T12:16:34.344626",
     "status": "completed"
    },
    "tags": []
   },
   "outputs": [
    {
     "name": "stdout",
     "output_type": "stream",
     "text": [
      "Epoch 1/5\n",
      "1875/1875 [==============================] - 4s 2ms/step - loss: 0.4666 - accuracy: 0.8785\n",
      "Epoch 2/5\n",
      "1875/1875 [==============================] - 4s 2ms/step - loss: 0.3042 - accuracy: 0.9147\n",
      "Epoch 3/5\n",
      "1875/1875 [==============================] - 3s 2ms/step - loss: 0.2834 - accuracy: 0.9210\n",
      "Epoch 4/5\n",
      "1875/1875 [==============================] - 3s 2ms/step - loss: 0.2734 - accuracy: 0.9233\n",
      "Epoch 5/5\n",
      "1875/1875 [==============================] - 3s 2ms/step - loss: 0.2668 - accuracy: 0.9254\n"
     ]
    },
    {
     "data": {
      "text/plain": [
       "<keras.src.callbacks.History at 0x7f9753061690>"
      ]
     },
     "execution_count": 9,
     "metadata": {},
     "output_type": "execute_result"
    }
   ],
   "source": [
    "model=keras.Sequential([\n",
    "    keras.layers.Dense(10,input_shape=(784,),activation=\"sigmoid\")\n",
    "])\n",
    "model.compile(\n",
    "    optimizer=\"adam\",\n",
    "    loss=\"sparse_categorical_crossentropy\",\n",
    "    metrics=[\"accuracy\"]\n",
    ")\n",
    "\n",
    "model.fit(x_train_flattened,y_train,epochs=5)"
   ]
  },
  {
   "cell_type": "markdown",
   "id": "93231e33",
   "metadata": {
    "papermill": {
     "duration": 0.042455,
     "end_time": "2023-12-02T12:16:52.589267",
     "exception": false,
     "start_time": "2023-12-02T12:16:52.546812",
     "status": "completed"
    },
    "tags": []
   },
   "source": [
    "Evaluate on test dataset"
   ]
  },
  {
   "cell_type": "code",
   "execution_count": 10,
   "id": "d53c230d",
   "metadata": {
    "execution": {
     "iopub.execute_input": "2023-12-02T12:16:52.675842Z",
     "iopub.status.busy": "2023-12-02T12:16:52.675383Z",
     "iopub.status.idle": "2023-12-02T12:16:55.828863Z",
     "shell.execute_reply": "2023-12-02T12:16:55.827440Z"
    },
    "papermill": {
     "duration": 3.199998,
     "end_time": "2023-12-02T12:16:55.831763",
     "exception": false,
     "start_time": "2023-12-02T12:16:52.631765",
     "status": "completed"
    },
    "tags": []
   },
   "outputs": [
    {
     "name": "stdout",
     "output_type": "stream",
     "text": [
      "Epoch 1/5\n",
      "313/313 [==============================] - 1s 2ms/step - loss: 0.2639 - accuracy: 0.9254\n",
      "Epoch 2/5\n",
      "313/313 [==============================] - 1s 2ms/step - loss: 0.2457 - accuracy: 0.9320\n",
      "Epoch 3/5\n",
      "313/313 [==============================] - 1s 2ms/step - loss: 0.2350 - accuracy: 0.9339\n",
      "Epoch 4/5\n",
      "313/313 [==============================] - 1s 2ms/step - loss: 0.2268 - accuracy: 0.9373\n",
      "Epoch 5/5\n",
      "313/313 [==============================] - 1s 2ms/step - loss: 0.2195 - accuracy: 0.9390\n"
     ]
    },
    {
     "data": {
      "text/plain": [
       "<keras.src.callbacks.History at 0x7f9753b57d60>"
      ]
     },
     "execution_count": 10,
     "metadata": {},
     "output_type": "execute_result"
    }
   ],
   "source": [
    "model.fit(x_test_flattened,y_test,epochs=5)"
   ]
  },
  {
   "cell_type": "markdown",
   "id": "d54f691b",
   "metadata": {
    "papermill": {
     "duration": 0.04947,
     "end_time": "2023-12-02T12:16:55.930855",
     "exception": false,
     "start_time": "2023-12-02T12:16:55.881385",
     "status": "completed"
    },
    "tags": []
   },
   "source": [
    "Sample prediction"
   ]
  },
  {
   "cell_type": "code",
   "execution_count": 11,
   "id": "91ececca",
   "metadata": {
    "execution": {
     "iopub.execute_input": "2023-12-02T12:16:56.030575Z",
     "iopub.status.busy": "2023-12-02T12:16:56.030115Z",
     "iopub.status.idle": "2023-12-02T12:16:56.484210Z",
     "shell.execute_reply": "2023-12-02T12:16:56.482983Z"
    },
    "papermill": {
     "duration": 0.507322,
     "end_time": "2023-12-02T12:16:56.487093",
     "exception": false,
     "start_time": "2023-12-02T12:16:55.979771",
     "status": "completed"
    },
    "tags": []
   },
   "outputs": [
    {
     "data": {
      "text/plain": [
       "<matplotlib.image.AxesImage at 0x7f9753491ab0>"
      ]
     },
     "execution_count": 11,
     "metadata": {},
     "output_type": "execute_result"
    },
    {
     "data": {
      "image/png": "[encoded data removed]",
      "text/plain": [
       "<Figure size 480x480 with 1 Axes>"
      ]
     },
     "metadata": {},
     "output_type": "display_data"
    }
   ],
   "source": [
    "plt.matshow(x_test[0])"
   ]
  },
  {
   "cell_type": "code",
   "execution_count": 12,
   "id": "4b816996",
   "metadata": {
    "execution": {
     "iopub.execute_input": "2023-12-02T12:16:56.656599Z",
     "iopub.status.busy": "2023-12-02T12:16:56.656181Z",
     "iopub.status.idle": "2023-12-02T12:16:57.425967Z",
     "shell.execute_reply": "2023-12-02T12:16:57.424476Z"
    },
    "papermill": {
     "duration": 0.825066,
     "end_time": "2023-12-02T12:16:57.428976",
     "exception": false,
     "start_time": "2023-12-02T12:16:56.603910",
     "status": "completed"
    },
    "tags": []
   },
   "outputs": [
    {
     "name": "stdout",
     "output_type": "stream",
     "text": [
      "313/313 [==============================] - 0s 1ms/step\n"
     ]
    },
    {
     "data": {
      "text/plain": [
       "array([3.1291008e-02, 6.0170225e-07, 1.1172130e-01, 9.8330200e-01,\n",
       "       8.5644476e-04, 1.9353506e-01, 9.9465842e-07, 9.9955684e-01,\n",
       "       1.6178107e-01, 5.3753036e-01], dtype=float32)"
      ]
     },
     "execution_count": 12,
     "metadata": {},
     "output_type": "execute_result"
    }
   ],
   "source": [
    "y_predicted=model.predict(x_test_flattened)\n",
    "y_predicted[0]"
   ]
  },
  {
   "cell_type": "code",
   "execution_count": 13,
   "id": "c3279599",
   "metadata": {
    "execution": {
     "iopub.execute_input": "2023-12-02T12:16:57.535262Z",
     "iopub.status.busy": "2023-12-02T12:16:57.534841Z",
     "iopub.status.idle": "2023-12-02T12:16:57.544905Z",
     "shell.execute_reply": "2023-12-02T12:16:57.543560Z"
    },
    "papermill": {
     "duration": 0.0664,
     "end_time": "2023-12-02T12:16:57.548214",
     "exception": false,
     "start_time": "2023-12-02T12:16:57.481814",
     "status": "completed"
    },
    "tags": []
   },
   "outputs": [
    {
     "data": {
      "text/plain": [
       "7"
      ]
     },
     "execution_count": 13,
     "metadata": {},
     "output_type": "execute_result"
    }
   ],
   "source": [
    "np.argmax(y_predicted[0])"
   ]
  },
  {
   "cell_type": "markdown",
   "id": "15256064",
   "metadata": {
    "papermill": {
     "duration": 0.051906,
     "end_time": "2023-12-02T12:16:57.651968",
     "exception": false,
     "start_time": "2023-12-02T12:16:57.600062",
     "status": "completed"
    },
    "tags": []
   },
   "source": [
    "Confusion Matrix"
   ]
  },
  {
   "cell_type": "code",
   "execution_count": 14,
   "id": "28c7734d",
   "metadata": {
    "execution": {
     "iopub.execute_input": "2023-12-02T12:16:57.756432Z",
     "iopub.status.busy": "2023-12-02T12:16:57.755863Z",
     "iopub.status.idle": "2023-12-02T12:16:57.804984Z",
     "shell.execute_reply": "2023-12-02T12:16:57.803812Z"
    },
    "papermill": {
     "duration": 0.104844,
     "end_time": "2023-12-02T12:16:57.808192",
     "exception": false,
     "start_time": "2023-12-02T12:16:57.703348",
     "status": "completed"
    },
    "tags": []
   },
   "outputs": [],
   "source": [
    "y_predicted_labels=[np.argmax(i) for i in y_predicted]\n"
   ]
  },
  {
   "cell_type": "code",
   "execution_count": 15,
   "id": "06039e3f",
   "metadata": {
    "execution": {
     "iopub.execute_input": "2023-12-02T12:16:57.917361Z",
     "iopub.status.busy": "2023-12-02T12:16:57.916862Z",
     "iopub.status.idle": "2023-12-02T12:16:57.964275Z",
     "shell.execute_reply": "2023-12-02T12:16:57.963131Z"
    },
    "papermill": {
     "duration": 0.105213,
     "end_time": "2023-12-02T12:16:57.966834",
     "exception": false,
     "start_time": "2023-12-02T12:16:57.861621",
     "status": "completed"
    },
    "tags": []
   },
   "outputs": [
    {
     "data": {
      "text/plain": [
       "<tf.Tensor: shape=(10, 10), dtype=int32, numpy=\n",
       "array([[ 966,    0,    1,    2,    0,    3,    3,    1,    3,    1],\n",
       "       [   0, 1119,    3,    2,    1,    1,    3,    2,    4,    0],\n",
       "       [   4,    5,  952,   10,   14,    2,    8,    9,   23,    5],\n",
       "       [   2,    0,   16,  948,    2,   13,    0,    7,   14,    8],\n",
       "       [   2,    1,    4,    1,  939,    0,    1,    2,    5,   27],\n",
       "       [   6,    4,    5,   34,   10,  783,   10,    1,   33,    6],\n",
       "       [   6,    3,    7,    1,    8,   14,  914,    1,    4,    0],\n",
       "       [   2,    6,   18,    5,    6,    1,    0,  954,    2,   34],\n",
       "       [   3,    9,    6,   20,    8,   16,    3,    5,  894,   10],\n",
       "       [   6,    7,    1,   11,   20,    4,    0,    9,    6,  945]],\n",
       "      dtype=int32)>"
      ]
     },
     "execution_count": 15,
     "metadata": {},
     "output_type": "execute_result"
    }
   ],
   "source": [
    "cm = tf.math.confusion_matrix(labels=y_test, predictions=y_predicted_labels)\n",
    "cm"
   ]
  },
  {
   "cell_type": "code",
   "execution_count": 16,
   "id": "6a668244",
   "metadata": {
    "execution": {
     "iopub.execute_input": "2023-12-02T12:16:58.071280Z",
     "iopub.status.busy": "2023-12-02T12:16:58.070882Z",
     "iopub.status.idle": "2023-12-02T12:16:59.859531Z",
     "shell.execute_reply": "2023-12-02T12:16:59.858582Z"
    },
    "papermill": {
     "duration": 1.843959,
     "end_time": "2023-12-02T12:16:59.861847",
     "exception": false,
     "start_time": "2023-12-02T12:16:58.017888",
     "status": "completed"
    },
    "tags": []
   },
   "outputs": [
    {
     "data": {
      "text/plain": [
       "Text(95.72222222222221, 0.5, 'Truth')"
      ]
     },
     "execution_count": 16,
     "metadata": {},
     "output_type": "execute_result"
    },
    {
     "data": {
      "image/png": "[encoded data removed]",
      "text/plain": [
       "<Figure size 1000x700 with 2 Axes>"
      ]
     },
     "metadata": {},
     "output_type": "display_data"
    }
   ],
   "source": [
    "import seaborn as sns\n",
    "plt.figure(figsize=(10,7))\n",
    "sns.heatmap(cm,annot=True,fmt='d')\n",
    "plt.xlabel('Predicted')\n",
    "plt.ylabel('Truth')"
   ]
  },
  {
   "cell_type": "markdown",
   "id": "e6cc2867",
   "metadata": {
    "papermill": {
     "duration": 0.053454,
     "end_time": "2023-12-02T12:16:59.967088",
     "exception": false,
     "start_time": "2023-12-02T12:16:59.913634",
     "status": "completed"
    },
    "tags": []
   },
   "source": [
    "With hidden layer"
   ]
  },
  {
   "cell_type": "code",
   "execution_count": 17,
   "id": "0f1ab1b7",
   "metadata": {
    "execution": {
     "iopub.execute_input": "2023-12-02T12:17:00.073487Z",
     "iopub.status.busy": "2023-12-02T12:17:00.072386Z",
     "iopub.status.idle": "2023-12-02T12:17:27.977098Z",
     "shell.execute_reply": "2023-12-02T12:17:27.976006Z"
    },
    "papermill": {
     "duration": 27.960664,
     "end_time": "2023-12-02T12:17:27.979784",
     "exception": false,
     "start_time": "2023-12-02T12:17:00.019120",
     "status": "completed"
    },
    "tags": []
   },
   "outputs": [
    {
     "name": "stdout",
     "output_type": "stream",
     "text": [
      "Epoch 1/5\n",
      "1875/1875 [==============================] - 6s 3ms/step - loss: 0.2730 - accuracy: 0.9224\n",
      "Epoch 2/5\n",
      "1875/1875 [==============================] - 6s 3ms/step - loss: 0.1218 - accuracy: 0.9635\n",
      "Epoch 3/5\n",
      "1875/1875 [==============================] - 5s 3ms/step - loss: 0.0849 - accuracy: 0.9742\n",
      "Epoch 4/5\n",
      "1875/1875 [==============================] - 5s 3ms/step - loss: 0.0646 - accuracy: 0.9798\n",
      "Epoch 5/5\n",
      "1875/1875 [==============================] - 5s 3ms/step - loss: 0.0529 - accuracy: 0.9832\n"
     ]
    },
    {
     "data": {
      "text/plain": [
       "<keras.src.callbacks.History at 0x7f97188c6920>"
      ]
     },
     "execution_count": 17,
     "metadata": {},
     "output_type": "execute_result"
    }
   ],
   "source": [
    "model=keras.Sequential([\n",
    "    keras.layers.Dense(100,input_shape=(784,),activation=\"relu\"),\n",
    "    keras.layers.Dense(10,activation=\"sigmoid\")\n",
    "])\n",
    "model.compile(\n",
    "    optimizer=\"adam\",\n",
    "    loss=\"sparse_categorical_crossentropy\",\n",
    "    metrics=[\"accuracy\"]\n",
    ")\n",
    "\n",
    "model.fit(x_train_flattened,y_train,epochs=5)"
   ]
  },
  {
   "cell_type": "code",
   "execution_count": 18,
   "id": "10caf742",
   "metadata": {
    "execution": {
     "iopub.execute_input": "2023-12-02T12:17:28.187356Z",
     "iopub.status.busy": "2023-12-02T12:17:28.186957Z",
     "iopub.status.idle": "2023-12-02T12:17:33.045732Z",
     "shell.execute_reply": "2023-12-02T12:17:33.044529Z"
    },
    "papermill": {
     "duration": 4.965261,
     "end_time": "2023-12-02T12:17:33.048283",
     "exception": false,
     "start_time": "2023-12-02T12:17:28.083022",
     "status": "completed"
    },
    "tags": []
   },
   "outputs": [
    {
     "name": "stdout",
     "output_type": "stream",
     "text": [
      "Epoch 1/5\n",
      "313/313 [==============================] - 1s 3ms/step - loss: 0.0782 - accuracy: 0.9763\n",
      "Epoch 2/5\n",
      "313/313 [==============================] - 1s 3ms/step - loss: 0.0362 - accuracy: 0.9904\n",
      "Epoch 3/5\n",
      "313/313 [==============================] - 1s 3ms/step - loss: 0.0229 - accuracy: 0.9942\n",
      "Epoch 4/5\n",
      "313/313 [==============================] - 1s 3ms/step - loss: 0.0135 - accuracy: 0.9981\n",
      "Epoch 5/5\n",
      "313/313 [==============================] - 1s 3ms/step - loss: 0.0100 - accuracy: 0.9989\n"
     ]
    },
    {
     "data": {
      "text/plain": [
       "<keras.src.callbacks.History at 0x7f9718856380>"
      ]
     },
     "execution_count": 18,
     "metadata": {},
     "output_type": "execute_result"
    }
   ],
   "source": [
    "model.fit(x_test_flattened,y_test,epochs=5)"
   ]
  },
  {
   "cell_type": "markdown",
   "id": "52b01872",
   "metadata": {
    "papermill": {
     "duration": 0.113636,
     "end_time": "2023-12-02T12:17:33.274530",
     "exception": false,
     "start_time": "2023-12-02T12:17:33.160894",
     "status": "completed"
    },
    "tags": []
   },
   "source": [
    "With flattened layer"
   ]
  },
  {
   "cell_type": "code",
   "execution_count": 19,
   "id": "8013dd62",
   "metadata": {
    "execution": {
     "iopub.execute_input": "2023-12-02T12:17:33.499682Z",
     "iopub.status.busy": "2023-12-02T12:17:33.499226Z",
     "iopub.status.idle": "2023-12-02T12:18:27.394149Z",
     "shell.execute_reply": "2023-12-02T12:18:27.392700Z"
    },
    "papermill": {
     "duration": 54.0092,
     "end_time": "2023-12-02T12:18:27.396940",
     "exception": false,
     "start_time": "2023-12-02T12:17:33.387740",
     "status": "completed"
    },
    "tags": []
   },
   "outputs": [
    {
     "name": "stdout",
     "output_type": "stream",
     "text": [
      "Epoch 1/10\n",
      "1875/1875 [==============================] - 6s 3ms/step - loss: 0.2670 - accuracy: 0.9247\n",
      "Epoch 2/10\n",
      "1875/1875 [==============================] - 5s 3ms/step - loss: 0.1213 - accuracy: 0.9636\n",
      "Epoch 3/10\n",
      "1875/1875 [==============================] - 5s 3ms/step - loss: 0.0846 - accuracy: 0.9749\n",
      "Epoch 4/10\n",
      "1875/1875 [==============================] - 5s 3ms/step - loss: 0.0634 - accuracy: 0.9813\n",
      "Epoch 5/10\n",
      "1875/1875 [==============================] - 5s 3ms/step - loss: 0.0506 - accuracy: 0.9844\n",
      "Epoch 6/10\n",
      "1875/1875 [==============================] - 5s 3ms/step - loss: 0.0404 - accuracy: 0.9874\n",
      "Epoch 7/10\n",
      "1875/1875 [==============================] - 5s 3ms/step - loss: 0.0329 - accuracy: 0.9901\n",
      "Epoch 8/10\n",
      "1875/1875 [==============================] - 5s 3ms/step - loss: 0.0272 - accuracy: 0.9917\n",
      "Epoch 9/10\n",
      "1875/1875 [==============================] - 5s 3ms/step - loss: 0.0228 - accuracy: 0.9930\n",
      "Epoch 10/10\n",
      "1875/1875 [==============================] - 6s 3ms/step - loss: 0.0180 - accuracy: 0.9947\n"
     ]
    },
    {
     "data": {
      "text/plain": [
       "<keras.src.callbacks.History at 0x7f97184cded0>"
      ]
     },
     "execution_count": 19,
     "metadata": {},
     "output_type": "execute_result"
    }
   ],
   "source": [
    "model=keras.Sequential([\n",
    "    keras.layers.Flatten(input_shape=(28,28)),\n",
    "    keras.layers.Dense(100,input_shape=(784,),activation=\"relu\"),\n",
    "    keras.layers.Dense(10,activation=\"sigmoid\")\n",
    "])\n",
    "model.compile(\n",
    "    optimizer=\"adam\",\n",
    "    loss=\"sparse_categorical_crossentropy\",\n",
    "    metrics=[\"accuracy\"]\n",
    ")\n",
    "\n",
    "model.fit(x_train,y_train,epochs=10)"
   ]
  }
 ],
 "metadata": {
  "kaggle": {
   "accelerator": "none",
   "dataSources": [],
   "dockerImageVersionId": 30587,
   "isGpuEnabled": false,
   "isInternetEnabled": true,
   "language": "python",
   "sourceType": "notebook"
  },
  "kernelspec": {
   "display_name": "Python 3",
   "language": "python",
   "name": "python3"
  },
  "language_info": {
   "codemirror_mode": {
    "name": "ipython",
    "version": 3
   },
   "file_extension": ".py",
   "mimetype": "text/x-python",
   "name": "python",
   "nbconvert_exporter": "python",
   "pygments_lexer": "ipython3",
   "version": "3.10.12"
  },
  "papermill": {
   "default_parameters": {},
   "duration": 137.220447,
   "end_time": "2023-12-02T12:18:29.452912",
   "environment_variables": {},
   "exception": null,
   "input_path": "__notebook__.ipynb",
   "output_path": "__notebook__.ipynb",
   "parameters": {},
   "start_time": "2023-12-02T12:16:12.232465",
   "version": "2.4.0"
  }
 },
 "nbformat": 4,
 "nbformat_minor": 5
}
